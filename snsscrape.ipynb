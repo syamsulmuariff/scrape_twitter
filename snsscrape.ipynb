{
  "nbformat": 4,
  "nbformat_minor": 0,
  "metadata": {
    "colab": {
      "provenance": [],
      "collapsed_sections": [],
      "include_colab_link": true
    },
    "kernelspec": {
      "name": "python3",
      "display_name": "Python 3"
    },
    "language_info": {
      "name": "python"
    }
  },
  "cells": [
    {
      "cell_type": "markdown",
      "metadata": {
        "id": "view-in-github",
        "colab_type": "text"
      },
      "source": [
        "<a href=\"https://colab.research.google.com/github/syamsulmuariff/scrape_twitter/blob/main/snsscrape.ipynb\" target=\"_parent\"><img src=\"https://colab.research.google.com/assets/colab-badge.svg\" alt=\"Open In Colab\"/></a>"
      ]
    },
    {
      "cell_type": "markdown",
      "source": [
        "kita instal dulu snscrape"
      ],
      "metadata": {
        "id": "1brGlxMTYd-N"
      }
    },
    {
      "cell_type": "code",
      "source": [
        "!pip3 install snscrape"
      ],
      "metadata": {
        "colab": {
          "base_uri": "https://localhost:8080/"
        },
        "id": "jNbSzqhgNUkx",
        "outputId": "8d9cf3ff-4887-4e2e-9f75-15b7d1415ab2"
      },
      "execution_count": 4,
      "outputs": [
        {
          "output_type": "stream",
          "name": "stdout",
          "text": [
            "Looking in indexes: https://pypi.org/simple, https://us-python.pkg.dev/colab-wheels/public/simple/\n",
            "Collecting snscrape\n",
            "  Downloading snscrape-0.3.4-py3-none-any.whl (35 kB)\n",
            "Requirement already satisfied: beautifulsoup4 in /usr/local/lib/python3.7/dist-packages (from snscrape) (4.6.3)\n",
            "Requirement already satisfied: requests[socks] in /usr/local/lib/python3.7/dist-packages (from snscrape) (2.23.0)\n",
            "Requirement already satisfied: lxml in /usr/local/lib/python3.7/dist-packages (from snscrape) (4.9.1)\n",
            "Requirement already satisfied: idna<3,>=2.5 in /usr/local/lib/python3.7/dist-packages (from requests[socks]->snscrape) (2.10)\n",
            "Requirement already satisfied: certifi>=2017.4.17 in /usr/local/lib/python3.7/dist-packages (from requests[socks]->snscrape) (2022.9.24)\n",
            "Requirement already satisfied: urllib3!=1.25.0,!=1.25.1,<1.26,>=1.21.1 in /usr/local/lib/python3.7/dist-packages (from requests[socks]->snscrape) (1.24.3)\n",
            "Requirement already satisfied: chardet<4,>=3.0.2 in /usr/local/lib/python3.7/dist-packages (from requests[socks]->snscrape) (3.0.4)\n",
            "Requirement already satisfied: PySocks!=1.5.7,>=1.5.6 in /usr/local/lib/python3.7/dist-packages (from requests[socks]->snscrape) (1.7.1)\n",
            "Installing collected packages: snscrape\n",
            "Successfully installed snscrape-0.3.4\n"
          ]
        }
      ]
    },
    {
      "cell_type": "markdown",
      "source": [
        "install juga langdetect"
      ],
      "metadata": {
        "id": "iMVsxEwOYnSY"
      }
    },
    {
      "cell_type": "code",
      "source": [
        "pip install langdetect"
      ],
      "metadata": {
        "colab": {
          "base_uri": "https://localhost:8080/"
        },
        "id": "_cpGkLAoZegb",
        "outputId": "c2130baf-b4f5-42a7-b470-efccc020f902"
      },
      "execution_count": 5,
      "outputs": [
        {
          "output_type": "stream",
          "name": "stdout",
          "text": [
            "Looking in indexes: https://pypi.org/simple, https://us-python.pkg.dev/colab-wheels/public/simple/\n",
            "Collecting langdetect\n",
            "  Downloading langdetect-1.0.9.tar.gz (981 kB)\n",
            "\u001b[K     |████████████████████████████████| 981 kB 8.1 MB/s \n",
            "\u001b[?25hRequirement already satisfied: six in /usr/local/lib/python3.7/dist-packages (from langdetect) (1.15.0)\n",
            "Building wheels for collected packages: langdetect\n",
            "  Building wheel for langdetect (setup.py) ... \u001b[?25l\u001b[?25hdone\n",
            "  Created wheel for langdetect: filename=langdetect-1.0.9-py3-none-any.whl size=993242 sha256=0e60cd14a91ad7a5c400d572b1c26581375af86184a98d81c615f6e4522b1129\n",
            "  Stored in directory: /root/.cache/pip/wheels/c5/96/8a/f90c59ed25d75e50a8c10a1b1c2d4c402e4dacfa87f3aff36a\n",
            "Successfully built langdetect\n",
            "Installing collected packages: langdetect\n",
            "Successfully installed langdetect-1.0.9\n"
          ]
        }
      ]
    },
    {
      "cell_type": "markdown",
      "source": [
        "setelah menginstall kita import library"
      ],
      "metadata": {
        "id": "-QdGz64bYrOZ"
      }
    },
    {
      "cell_type": "code",
      "source": [
        "import snscrape.modules.twitter as sntwitter\n",
        "import json\n",
        "from langdetect import detect"
      ],
      "metadata": {
        "id": "TXJV6YeeZihZ"
      },
      "execution_count": 6,
      "outputs": []
    },
    {
      "cell_type": "markdown",
      "source": [
        "lalu kita masukkan keyword atau kata kunci yang mau kita cari ditwitter,lalu masukkan start yang isinnya dari tanggal mulai kita mencari kata kunci dan end sampai akhir tanggal pencarian lalu kita masukkan max_num yang artinya maximum banyak jumlah pencarian dan contohnya seperti dibawah ini"
      ],
      "metadata": {
        "id": "zg8FonGrY1pn"
      }
    },
    {
      "cell_type": "code",
      "source": [
        "keywords=['lesti']\n",
        "start=\"2022–09–01\"\n",
        "end =\"2022–10–14\"\n",
        "max_num=10\n",
        "fname='tweet.json' \n",
        "languages=['id','en']"
      ],
      "metadata": {
        "id": "_sPucD-vZsz1"
      },
      "execution_count": 8,
      "outputs": []
    },
    {
      "cell_type": "markdown",
      "source": [
        "setelah mendaptkan kata kunci lalu kita akan melakukan import pandas"
      ],
      "metadata": {
        "id": "a95ErmVeZlzw"
      }
    },
    {
      "cell_type": "code",
      "source": [
        "import pandas as pd\n",
        "datatw=[]"
      ],
      "metadata": {
        "id": "_6uCEhOXz5TW"
      },
      "execution_count": 9,
      "outputs": []
    },
    {
      "cell_type": "markdown",
      "source": [
        "lalu kita akan melakukan pencarian ditwitter terkait kata kunci yang kita masukkan dan hasilnya akan ada id,username,tangga tweet,content,tweet url dari pengguna di twitter"
      ],
      "metadata": {
        "id": "wzqpg25Ga1hW"
      }
    },
    {
      "cell_type": "code",
      "source": [
        "for keyword in keywords:\n",
        "   \n",
        "    for i, tweet in enumerate (sntwitter.TwitterSearchScraper(f'{keyword} ').get_items()):\n",
        "        \n",
        "        try:\n",
        "            lan=detect(tweet.content)\n",
        "        except:\n",
        "            lan='error'\n",
        "        if i == max_num:\n",
        "            break\n",
        "        if lan in languages:\n",
        "            data = {'id': tweet.id, 'username':tweet.username, 'date': tweet.date, 'text': tweet.content,'url':tweet.url}\n",
        "            print(data)\n",
        "            datatw.append(tweet.content)\n",
        "            with open(fname, 'a+', encoding='utf-8') as f:\n",
        "                line = json.dumps(data, ensure_ascii=False,default=str)\n",
        "                print(line)\n",
        "                f.write(line)\n",
        "                f.write('\\n')"
      ],
      "metadata": {
        "colab": {
          "base_uri": "https://localhost:8080/"
        },
        "id": "1-8oNU5nZmMT",
        "outputId": "d0796f2b-b450-41c4-afba-029eadf98ce4"
      },
      "execution_count": 10,
      "outputs": [
        {
          "output_type": "stream",
          "name": "stdout",
          "text": [
            "{'id': 1581109651311329280, 'username': 'CuitanIni', 'date': datetime.datetime(2022, 10, 15, 2, 28, 11, tzinfo=datetime.timezone.utc), 'text': 'Yuk siapa lagi yang mau cairin sisa saldo pelatihan. Sayang banget kan kalo dianggurin. Mending dicairin. Boleh kontak kita yaa\\n#lesti #billar #leslar #KDRT #Innalillahi  #prayforbogor https://t.co/jJxo8ZUIry', 'url': 'https://twitter.com/CuitanIni/status/1581109651311329280'}\n",
            "{\"id\": 1581109651311329280, \"username\": \"CuitanIni\", \"date\": \"2022-10-15 02:28:11+00:00\", \"text\": \"Yuk siapa lagi yang mau cairin sisa saldo pelatihan. Sayang banget kan kalo dianggurin. Mending dicairin. Boleh kontak kita yaa\\n#lesti #billar #leslar #KDRT #Innalillahi  #prayforbogor https://t.co/jJxo8ZUIry\", \"url\": \"https://twitter.com/CuitanIni/status/1581109651311329280\"}\n",
            "{'id': 1581109641261756417, 'username': '0xbluessyi', 'date': datetime.datetime(2022, 10, 15, 2, 28, 8, tzinfo=datetime.timezone.utc), 'text': 'Demi apapun gue GAK heran perihal LESTI KARENA di dunia nyata ada persis kek temen gue, lakiknya udh mah tukang selingkuh, mabok, kdrt temen gue udah nanya2 syarat2 cerai Dan udah apdet story Mau cerai eh lakiknya minta maaf dia luluh lagi. Ih najesss', 'url': 'https://twitter.com/0xbluessyi/status/1581109641261756417'}\n",
            "{\"id\": 1581109641261756417, \"username\": \"0xbluessyi\", \"date\": \"2022-10-15 02:28:08+00:00\", \"text\": \"Demi apapun gue GAK heran perihal LESTI KARENA di dunia nyata ada persis kek temen gue, lakiknya udh mah tukang selingkuh, mabok, kdrt temen gue udah nanya2 syarat2 cerai Dan udah apdet story Mau cerai eh lakiknya minta maaf dia luluh lagi. Ih najesss\", \"url\": \"https://twitter.com/0xbluessyi/status/1581109641261756417\"}\n",
            "{'id': 1581109597208981504, 'username': 'LestiSalto', 'date': datetime.datetime(2022, 10, 15, 2, 27, 58, tzinfo=datetime.timezone.utc), 'text': '@CryptoKing4Ever @monchairy @hlohwin @luvtowins @CkConquerors Congrats semoga nular ke ak hokinya', 'url': 'https://twitter.com/LestiSalto/status/1581109597208981504'}\n",
            "{\"id\": 1581109597208981504, \"username\": \"LestiSalto\", \"date\": \"2022-10-15 02:27:58+00:00\", \"text\": \"@CryptoKing4Ever @monchairy @hlohwin @luvtowins @CkConquerors Congrats semoga nular ke ak hokinya\", \"url\": \"https://twitter.com/LestiSalto/status/1581109597208981504\"}\n",
            "{'id': 1581109593245351936, 'username': 'badanelaboom', 'date': datetime.datetime(2022, 10, 15, 2, 27, 57, tzinfo=datetime.timezone.utc), 'text': 'Nenekku marah marah soal lesti hshs', 'url': 'https://twitter.com/badanelaboom/status/1581109593245351936'}\n",
            "{\"id\": 1581109593245351936, \"username\": \"badanelaboom\", \"date\": \"2022-10-15 02:27:57+00:00\", \"text\": \"Nenekku marah marah soal lesti hshs\", \"url\": \"https://twitter.com/badanelaboom/status/1581109593245351936\"}\n",
            "{'id': 1581109588547756033, 'username': 'foreveryovng_', 'date': datetime.datetime(2022, 10, 15, 2, 27, 56, tzinfo=datetime.timezone.utc), 'text': 'Bener sih. Yg gue pertanyakan orang/keluarga disekeliling lesti apa gak ada yg ngebimbing dia? https://t.co/IZSC2qRg4z', 'url': 'https://twitter.com/foreveryovng_/status/1581109588547756033'}\n",
            "{\"id\": 1581109588547756033, \"username\": \"foreveryovng_\", \"date\": \"2022-10-15 02:27:56+00:00\", \"text\": \"Bener sih. Yg gue pertanyakan orang/keluarga disekeliling lesti apa gak ada yg ngebimbing dia? https://t.co/IZSC2qRg4z\", \"url\": \"https://twitter.com/foreveryovng_/status/1581109588547756033\"}\n",
            "{'id': 1581109539264684032, 'username': 'alfcovr_', 'date': datetime.datetime(2022, 10, 15, 2, 27, 44, tzinfo=datetime.timezone.utc), 'text': '@eros0219 dan mungkin lesti yang kita sebelin sekarang sedang berusaha untuk memutuskan hubungannya dengan pelaku, tapi mungkin blm berhasil. dan mnurut sebuah studi di Inggris membuktikan bahwa butuh 5-6 kali percobaan seorang korban kdrt sampai dia berhasil lepas dari pelaku.', 'url': 'https://twitter.com/alfcovr_/status/1581109539264684032'}\n",
            "{\"id\": 1581109539264684032, \"username\": \"alfcovr_\", \"date\": \"2022-10-15 02:27:44+00:00\", \"text\": \"@eros0219 dan mungkin lesti yang kita sebelin sekarang sedang berusaha untuk memutuskan hubungannya dengan pelaku, tapi mungkin blm berhasil. dan mnurut sebuah studi di Inggris membuktikan bahwa butuh 5-6 kali percobaan seorang korban kdrt sampai dia berhasil lepas dari pelaku.\", \"url\": \"https://twitter.com/alfcovr_/status/1581109539264684032\"}\n",
            "{'id': 1581109535921823744, 'username': 'hiromi_daiji', 'date': datetime.datetime(2022, 10, 15, 2, 27, 43, tzinfo=datetime.timezone.utc), 'text': 'Udah! Capek aku liat berita lesti kiri kanan depan belakang ngomongin tentang leslar mulu. \\n\\nSerah lu les! TERSERAHH!! \\n\\nnanti ngulang lagi kejadian nya cuma bisa bilang \"KAN!\" 😌', 'url': 'https://twitter.com/hiromi_daiji/status/1581109535921823744'}\n",
            "{\"id\": 1581109535921823744, \"username\": \"hiromi_daiji\", \"date\": \"2022-10-15 02:27:43+00:00\", \"text\": \"Udah! Capek aku liat berita lesti kiri kanan depan belakang ngomongin tentang leslar mulu. \\n\\nSerah lu les! TERSERAHH!! \\n\\nnanti ngulang lagi kejadian nya cuma bisa bilang \\\"KAN!\\\" 😌\", \"url\": \"https://twitter.com/hiromi_daiji/status/1581109535921823744\"}\n",
            "{'id': 1581109505324376064, 'username': 'inggitwidiee', 'date': datetime.datetime(2022, 10, 15, 2, 27, 36, tzinfo=datetime.timezone.utc), 'text': '@ashayzr jangan! isinya lesti, w lg fakum dulu ini', 'url': 'https://twitter.com/inggitwidiee/status/1581109505324376064'}\n",
            "{\"id\": 1581109505324376064, \"username\": \"inggitwidiee\", \"date\": \"2022-10-15 02:27:36+00:00\", \"text\": \"@ashayzr jangan! isinya lesti, w lg fakum dulu ini\", \"url\": \"https://twitter.com/inggitwidiee/status/1581109505324376064\"}\n",
            "{'id': 1581109484306300929, 'username': 'xxy__aa', 'date': datetime.datetime(2022, 10, 15, 2, 27, 31, tzinfo=datetime.timezone.utc), 'text': '@convomfs Mending di boikot deh lesti gausah masuk tipi', 'url': 'https://twitter.com/xxy__aa/status/1581109484306300929'}\n",
            "{\"id\": 1581109484306300929, \"username\": \"xxy__aa\", \"date\": \"2022-10-15 02:27:31+00:00\", \"text\": \"@convomfs Mending di boikot deh lesti gausah masuk tipi\", \"url\": \"https://twitter.com/xxy__aa/status/1581109484306300929\"}\n"
          ]
        }
      ]
    },
    {
      "cell_type": "markdown",
      "source": [
        "kita install sastrawi terlebih dahulu"
      ],
      "metadata": {
        "id": "OmvNrSIzblng"
      }
    },
    {
      "cell_type": "code",
      "source": [
        "!pip install Sastrawi"
      ],
      "metadata": {
        "colab": {
          "base_uri": "https://localhost:8080/"
        },
        "id": "Ef30CYOa46Ap",
        "outputId": "da101a77-9224-4a17-e3d0-8f437381a743"
      },
      "execution_count": 11,
      "outputs": [
        {
          "output_type": "stream",
          "name": "stdout",
          "text": [
            "Looking in indexes: https://pypi.org/simple, https://us-python.pkg.dev/colab-wheels/public/simple/\n",
            "Collecting Sastrawi\n",
            "  Downloading Sastrawi-1.0.1-py2.py3-none-any.whl (209 kB)\n",
            "\u001b[K     |████████████████████████████████| 209 kB 7.7 MB/s \n",
            "\u001b[?25hInstalling collected packages: Sastrawi\n",
            "Successfully installed Sastrawi-1.0.1\n"
          ]
        }
      ]
    },
    {
      "cell_type": "markdown",
      "source": [
        "lalu kita import library yaitu import re,string,stemmerfactory,proses ini untuk menghilangkan kata berimbuan menjadi kata dasar"
      ],
      "metadata": {
        "id": "nOEbiTBWb5g9"
      }
    },
    {
      "cell_type": "code",
      "source": [
        "import re\n",
        "import string\n",
        "from Sastrawi.Stemmer.StemmerFactory import StemmerFactory# create stemmer\n",
        "factory = StemmerFactory()\n",
        "stemmer = factory.create_stemmer()# stemming process\n",
        "# import StopWordRemoverFactory class\n",
        "from Sastrawi.StopWordRemover.StopWordRemoverFactory import StopWordRemoverFactory\n",
        "factory = StopWordRemoverFactory()\n",
        "stopword = factory.create_stop_word_remover()\n",
        "documents_clean=[]\n",
        "\n",
        "for d in datatw:\n",
        "    outputstem= stemmer.stem(d)\n",
        "    d= stopword.remove(outputstem)\n",
        "    # Remove Unicode\n",
        "    document_test = re.sub(r'[^\\x00-\\x7F]+', ' ', d)\n",
        "    # Remove Mentions\n",
        "    document_test = re.sub(r'@\\w+', '', document_test)\n",
        "    # Lowercase the document\n",
        "    document_test = document_test.lower()\n",
        "    # Remove punctuations\n",
        "    document_test = re.sub(r'[%s]' % re.escape(string.punctuation), ' ', document_test)\n",
        "    # Lowercase the numbers\n",
        "    document_test = re.sub(r'[0-9]', '', document_test)\n",
        "    # Remove the doubled space\n",
        "    outputstop = re.sub(r'\\s{2,}', ' ', document_test)\n",
        "    documents_clean.append(outputstop)"
      ],
      "metadata": {
        "id": "P-AMMTYT4v-D"
      },
      "execution_count": 12,
      "outputs": []
    },
    {
      "cell_type": "markdown",
      "source": [
        "lalu kita tampilkan dokumen dengan documnet_clean"
      ],
      "metadata": {
        "id": "xj5T0wpMcUgR"
      }
    },
    {
      "cell_type": "code",
      "source": [
        "documents_clean"
      ],
      "metadata": {
        "colab": {
          "base_uri": "https://localhost:8080/"
        },
        "id": "oXFn2Pxs6n8C",
        "outputId": "cdc2202b-2bfb-45ff-e52e-ac164ca8b4fa"
      },
      "execution_count": 13,
      "outputs": [
        {
          "output_type": "execute_result",
          "data": {
            "text/plain": [
              "['yuk siapa yang mau cairin sisa saldo latih sayang banget kan kalo dianggurin mending dicairin kontak yaa lesti billar leslar kdrt innalillahi prayforbogor https t co jjxozuiry',\n",
              " 'apa gue gak heran perihal lesti di dunia nyata persis kek temen gue lakiknya udh mah tukang selingkuh mabok kdrt temen gue udah nanya syarat cerai udah apdet story mau cerai eh lakiknya minta maaf luluh ih najesss',\n",
              " 'cryptokingever monchairy hlohwin luvtowins ckconquerors congrats moga nular ak hoki',\n",
              " 'nenek marah marah soal lesti hshs',\n",
              " 'bener sih yg gue tanya orang keluarga keliling lesti apa gak yg ngebimbing https t co izscqrgz',\n",
              " 'eros mungkin lesti kita bin sekarang sedang usaha putus hubung laku mungkin blm hasil mnurut buah studi inggris bukti butuh kali coba orang korban kdrt dia hasil lepas laku',\n",
              " 'udah capek aku liat berita lesti kiri kanan depan belakang ngomongin leslar mulu serah lu les terserahh ngulang jadi nya cuma bilang kan',\n",
              " 'ashayzr jangan isi lesti w lg fakum dulu',\n",
              " 'convomfs mending boikot deh lesti gausah masuk tipi']"
            ]
          },
          "metadata": {},
          "execution_count": 13
        }
      ]
    },
    {
      "cell_type": "markdown",
      "source": [
        "lalu kita akan mengimport tfidfvectorizer"
      ],
      "metadata": {
        "id": "e-hC_O5Ocd8x"
      }
    },
    {
      "cell_type": "code",
      "source": [
        "from sklearn.feature_extraction.text import TfidfVectorizer\n",
        "import pandas as pd\n",
        "tfidfvectorizer = TfidfVectorizer(analyzer='word')\n",
        "tfidf_wm = tfidfvectorizer.fit_transform(documents_clean)\n",
        "tfidf_tokens = tfidfvectorizer.get_feature_names()"
      ],
      "metadata": {
        "id": "dFaU7JCO63f2",
        "colab": {
          "base_uri": "https://localhost:8080/"
        },
        "outputId": "4868bb66-cce6-4087-dea9-35ca4ddee7cb"
      },
      "execution_count": 30,
      "outputs": [
        {
          "output_type": "stream",
          "name": "stderr",
          "text": [
            "/usr/local/lib/python3.7/dist-packages/sklearn/utils/deprecation.py:87: FutureWarning: Function get_feature_names is deprecated; get_feature_names is deprecated in 1.0 and will be removed in 1.2. Please use get_feature_names_out instead.\n",
            "  warnings.warn(msg, category=FutureWarning)\n"
          ]
        }
      ]
    },
    {
      "cell_type": "markdown",
      "source": [
        "setelah mendapatkan data dari kata kunci tadi lalu akan dibuat diagram seperti dibawah ini yang menampilkan kata yang terbaik dari 20 besar"
      ],
      "metadata": {
        "id": "YQqZ-HWYemL3"
      }
    },
    {
      "cell_type": "code",
      "source": [
        "from sklearn.feature_extraction.text import CountVectorizer \n",
        "import matplotlib.pyplot as plt\n",
        "import numpy as np # linear algebra\n",
        "import pandas as pd # data processing, CSV file I/O (e.g. pd.read_csv)\n",
        "cv = CountVectorizer()\n",
        "words = cv.fit_transform(documents_clean)\n",
        "sum_words = words.sum(axis=0)\n",
        "\n",
        "\n",
        "words_freq = [(word, sum_words[0, idx]) for word, idx in cv.vocabulary_.items()]\n",
        "words_freq = sorted(words_freq, key = lambda x: x[1], reverse = True)\n",
        "frequency = pd.DataFrame(words_freq, columns=['word', 'freq'])\n",
        "\n",
        "color = plt.cm.twilight(np.linspace(0, 1, 20))\n",
        "frequency.head(20).plot(x='word', y='freq', kind='bar', figsize=(15, 7), color = color)\n",
        "plt.title(\"Most Frequently Occuring Words - Top 20\")"
      ],
      "metadata": {
        "colab": {
          "base_uri": "https://localhost:8080/",
          "height": 510
        },
        "id": "i6N8eC9I7AHA",
        "outputId": "96d9a396-39c4-4f3a-f5f9-ac5b276b255b"
      },
      "execution_count": 31,
      "outputs": [
        {
          "output_type": "execute_result",
          "data": {
            "text/plain": [
              "Text(0.5, 1.0, 'Most Frequently Occuring Words - Top 20')"
            ]
          },
          "metadata": {},
          "execution_count": 31
        },
        {
          "output_type": "display_data",
          "data": {
            "text/plain": [
              "<Figure size 1080x504 with 1 Axes>"
            ],
            "image/png": "[encoded data removed]"
          },
          "metadata": {
            "needs_background": "light"
          }
        }
      ]
    },
    {
      "cell_type": "markdown",
      "source": [
        "setelah mendapatkan kata lalu kita akan melakukkan clustering pada kata tersebut"
      ],
      "metadata": {
        "id": "cbPmJAtGfAXn"
      }
    },
    {
      "cell_type": "code",
      "source": [
        "from sklearn.cluster import KMeans\n",
        "true_k = 3\n",
        "model = KMeans(n_clusters=true_k, init='k-means++', max_iter=100, n_init=1)\n",
        "model.fit(words)"
      ],
      "metadata": {
        "colab": {
          "base_uri": "https://localhost:8080/"
        },
        "id": "Ta3DnvTX7DGG",
        "outputId": "cbf845f0-9034-44a7-cb6b-8a7987c9c45c"
      },
      "execution_count": 32,
      "outputs": [
        {
          "output_type": "execute_result",
          "data": {
            "text/plain": [
              "KMeans(max_iter=100, n_clusters=3, n_init=1)"
            ]
          },
          "metadata": {},
          "execution_count": 32
        }
      ]
    },
    {
      "cell_type": "markdown",
      "source": [
        "setelah itu kita akan melihat hasil clustering dibawah ini dengan kata kunci yang kita cari diatas tadi"
      ],
      "metadata": {
        "id": "xZfhsGgVhh4L"
      }
    },
    {
      "cell_type": "code",
      "source": [
        "order_centroids = model.cluster_centers_.argsort()[:, ::-1]\n",
        "terms = cv.get_feature_names()\n",
        "\n",
        "for i in range(true_k):\n",
        "    print(\"Cluster %d:\" % i),\n",
        "    for ind in order_centroids[i, :10]:\n",
        "        print(' %s' % terms[ind]),\n",
        "    print\n",
        "\n",
        "print(\"\\n\")"
      ],
      "metadata": {
        "colab": {
          "base_uri": "https://localhost:8080/"
        },
        "id": "WDiHKG9d7KFI",
        "outputId": "2af5be3c-8340-4d3d-d1f3-4b4a72eaadf0"
      },
      "execution_count": 33,
      "outputs": [
        {
          "output_type": "stream",
          "name": "stdout",
          "text": [
            "Cluster 0:\n",
            " lesti\n",
            " yg\n",
            " https\n",
            " co\n",
            " mending\n",
            " marah\n",
            " kan\n",
            " leslar\n",
            " hshs\n",
            " jjxozuiry\n",
            "Cluster 1:\n",
            " gue\n",
            " udah\n",
            " cerai\n",
            " lakiknya\n",
            " temen\n",
            " di\n",
            " mabok\n",
            " mah\n",
            " maaf\n",
            " dunia\n",
            "Cluster 2:\n",
            " hasil\n",
            " laku\n",
            " mungkin\n",
            " eros\n",
            " sedang\n",
            " putus\n",
            " coba\n",
            " orang\n",
            " dia\n",
            " mnurut\n",
            "\n",
            "\n"
          ]
        },
        {
          "output_type": "stream",
          "name": "stderr",
          "text": [
            "/usr/local/lib/python3.7/dist-packages/sklearn/utils/deprecation.py:87: FutureWarning: Function get_feature_names is deprecated; get_feature_names is deprecated in 1.0 and will be removed in 1.2. Please use get_feature_names_out instead.\n",
            "  warnings.warn(msg, category=FutureWarning)\n"
          ]
        }
      ]
    },
    {
      "cell_type": "markdown",
      "source": [
        "setelah melakukan cluster kita bisa juga melakukan prediction kata tersebut masuk ke cluster berapa seperti contoh dibawah ini"
      ],
      "metadata": {
        "id": "3qmC-X4uh11i"
      }
    },
    {
      "cell_type": "code",
      "source": [
        "print(\"Prediction\")\n",
        "Y = cv.transform([\"lesti marah\"])\n",
        "prediction = model.predict(Y)\n",
        "print(\"Cluster number :\", prediction)\n",
        "Y = cv.transform([\"cerai\"])\n",
        "prediction = model.predict(Y)\n",
        "print(\"Cluster number :\", prediction)"
      ],
      "metadata": {
        "colab": {
          "base_uri": "https://localhost:8080/"
        },
        "id": "AYXWzaVv7SfL",
        "outputId": "552b4fb7-db5e-4444-bf23-4e949faddaab"
      },
      "execution_count": 34,
      "outputs": [
        {
          "output_type": "stream",
          "name": "stdout",
          "text": [
            "Prediction\n",
            "Cluster number : [0]\n",
            "Cluster number : [0]\n"
          ]
        }
      ]
    },
    {
      "cell_type": "markdown",
      "source": [
        "lalu kita buat diagram/dendogram nya seperti ini "
      ],
      "metadata": {
        "id": "56Y8U3VWieeh"
      }
    },
    {
      "cell_type": "code",
      "source": [
        "import scipy.cluster.hierarchy as sch\n",
        "X = cv.fit_transform(documents_clean).todense()\n",
        "dendrogram = sch.dendrogram(sch.linkage(X, method = 'ward',metric='euclidean'),orientation=\"top\")\n",
        "plt.title('Dendrogram')\n",
        "plt.xlabel('Jarak Ward')\n",
        "plt.ylabel('Nomor Dokumen')\n",
        "plt.show()"
      ],
      "metadata": {
        "colab": {
          "base_uri": "https://localhost:8080/",
          "height": 298
        },
        "id": "EQ0-EdX57erP",
        "outputId": "ad9be880-4e10-44d6-c083-4c1ad11f803c"
      },
      "execution_count": 35,
      "outputs": [
        {
          "output_type": "display_data",
          "data": {
            "text/plain": [
              "<Figure size 432x288 with 1 Axes>"
            ],
            "image/png": "[encoded data removed]"
          },
          "metadata": {
            "needs_background": "light"
          }
        }
      ]
    },
    {
      "cell_type": "code",
      "source": [
        "import scipy.cluster.hierarchy as sch\n",
        "X = cv.fit_transform(documents_clean).todense()\n",
        "dendrogram = sch.dendrogram(sch.linkage(X, method = 'average',metric='euclidean'),orientation=\"right\")\n",
        "plt.title('Dendrogram')\n",
        "plt.xlabel('Jarak Rerata')\n",
        "plt.ylabel('Nomor Dokumen')\n",
        "plt.show()"
      ],
      "metadata": {
        "colab": {
          "base_uri": "https://localhost:8080/",
          "height": 295
        },
        "id": "t6dbMUje8R8V",
        "outputId": "2c6b3abe-d61d-434f-c1cc-26f6865797f6"
      },
      "execution_count": 36,
      "outputs": [
        {
          "output_type": "display_data",
          "data": {
            "text/plain": [
              "<Figure size 432x288 with 1 Axes>"
            ],
            "image/png": "[encoded data removed]"
          },
          "metadata": {
            "needs_background": "light"
          }
        }
      ]
    },
    {
      "cell_type": "code",
      "source": [
        "from sklearn.cluster import AgglomerativeClustering\n",
        "\n",
        "cluster = AgglomerativeClustering(n_clusters=6, affinity='euclidean', linkage='ward')  \n",
        "cluster.fit_predict(X) \n",
        "print(cluster.labels_)"
      ],
      "metadata": {
        "colab": {
          "base_uri": "https://localhost:8080/"
        },
        "id": "jg9GTkcI8bYq",
        "outputId": "2ea502f3-9d81-4180-de70-bc4776f464c8"
      },
      "execution_count": 46,
      "outputs": [
        {
          "output_type": "stream",
          "name": "stdout",
          "text": [
            "[3 4 0 0 5 2 1 0 0]\n"
          ]
        },
        {
          "output_type": "stream",
          "name": "stderr",
          "text": [
            "/usr/local/lib/python3.7/dist-packages/sklearn/utils/validation.py:598: FutureWarning: np.matrix usage is deprecated in 1.0 and will raise a TypeError in 1.2. Please convert to a numpy array with np.asarray. For more information see: https://numpy.org/doc/stable/reference/generated/numpy.matrix.html\n",
            "  FutureWarning,\n"
          ]
        }
      ]
    },
    {
      "cell_type": "code",
      "source": [
        "from scipy.cluster.hierarchy import dendrogram, linkage\n",
        "from matplotlib import pyplot as plt\n",
        "\n",
        "linked = linkage(X, 'single')\n",
        "\n",
        "labelList = range(0, 9)\n",
        "\n",
        "plt.figure(figsize=(10, 7))\n",
        "dendrogram(linked,\n",
        "            orientation='top',\n",
        "            labels=labelList,\n",
        "            distance_sort='descending',\n",
        "            show_leaf_counts=True)\n",
        "plt.show()\n"
      ],
      "metadata": {
        "colab": {
          "base_uri": "https://localhost:8080/",
          "height": 431
        },
        "id": "6LIHGf_o8hFP",
        "outputId": "b3ce2ab3-5843-4d9e-9630-9dc244661950"
      },
      "execution_count": 47,
      "outputs": [
        {
          "output_type": "display_data",
          "data": {
            "text/plain": [
              "<Figure size 720x504 with 1 Axes>"
            ],
            "image/png": "[encoded data removed]"
          },
          "metadata": {
            "needs_background": "light"
          }
        }
      ]
    },
    {
      "cell_type": "code",
      "source": [
        "from scipy.cluster.hierarchy import dendrogram, linkage\n",
        "from matplotlib import pyplot as plt\n",
        "\n",
        "linked = linkage(X, 'average')\n",
        "\n",
        "labelList = range(0, 9)\n",
        "\n",
        "plt.figure(figsize=(10, 7))\n",
        "dendrogram(linked,\n",
        "            orientation='top',\n",
        "            labels=labelList,\n",
        "            distance_sort='descending',\n",
        "            show_leaf_counts=True)\n",
        "plt.show()"
      ],
      "metadata": {
        "colab": {
          "base_uri": "https://localhost:8080/",
          "height": 431
        },
        "id": "_bRE5MZJ8tJ2",
        "outputId": "afbc1397-3387-46f5-e7f1-0689523be551"
      },
      "execution_count": 48,
      "outputs": [
        {
          "output_type": "display_data",
          "data": {
            "text/plain": [
              "<Figure size 720x504 with 1 Axes>"
            ],
            "image/png": "[encoded data removed]"
          },
          "metadata": {
            "needs_background": "light"
          }
        }
      ]
    },
    {
      "cell_type": "markdown",
      "source": [
        "https://www.freecodecamp.org/news/python-web-scraping-tutorial/\n",
        "https://medium.com/dataseries/how-to-scrape-millions-of-tweets-using-snscrape-195ee3594721"
      ],
      "metadata": {
        "id": "gnHGGgt2M-ia"
      }
    }
  ]
}